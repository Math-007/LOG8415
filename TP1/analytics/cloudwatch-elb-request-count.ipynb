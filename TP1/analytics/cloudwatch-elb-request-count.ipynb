{
 "cells": [
  {
   "cell_type": "code",
   "execution_count": 13,
   "metadata": {},
   "outputs": [],
   "source": [
    "import boto3\n",
    "import numpy\n",
    "import matplotlib.pyplot as plt\n",
    "from datetime import datetime, timedelta"
   ]
  },
  {
   "cell_type": "code",
   "execution_count": 12,
   "metadata": {},
   "outputs": [],
   "source": [
    "cloudwatch = boto3.client(service_name='cloudwatch', region_name='us-east-1')"
   ]
  },
  {
   "cell_type": "code",
   "execution_count": 17,
   "metadata": {},
   "outputs": [],
   "source": [
    "start_time = datetime.strptime('2021-10-10T16:00:00Z', '%Y-%m-%dT%H:%M:%SZ')"
   ]
  },
  {
   "cell_type": "code",
   "execution_count": 18,
   "metadata": {},
   "outputs": [],
   "source": [
    "response = cloudwatch.get_metric_statistics(\n",
    "    Namespace='AWS/ApplicationELB',\n",
    "    Period=60,\n",
    "    StartTime=start_time,\n",
    "    EndTime =start_time + timedelta(minutes=30),\n",
    "    MetricName='RequestCount',\n",
    "    Statistics=['SampleCount'],\n",
    "    Dimensions = [\n",
    "    {'Name': 'LoadBalancer', 'Value': 'app/LOG8415E-TP1-ELB/34b9577b1309f9c3'}\n",
    "    ])"
   ]
  },
  {
   "cell_type": "code",
   "execution_count": 33,
   "metadata": {},
   "outputs": [],
   "source": [
    "x = [ d['Timestamp'] for d in response['Datapoints']]\n",
    "y = [ d['SampleCount'] for d in response['Datapoints']]"
   ]
  },
  {
   "cell_type": "code",
   "execution_count": null,
   "metadata": {},
   "outputs": [],
   "source": []
  }
 ],
 "metadata": {
  "kernelspec": {
   "display_name": "Python 3",
   "language": "python",
   "name": "python3"
  },
  "language_info": {
   "codemirror_mode": {
    "name": "ipython",
    "version": 3
   },
   "file_extension": ".py",
   "mimetype": "text/x-python",
   "name": "python",
   "nbconvert_exporter": "python",
   "pygments_lexer": "ipython3",
   "version": "3.8.9"
  }
 },
 "nbformat": 4,
 "nbformat_minor": 1
}
