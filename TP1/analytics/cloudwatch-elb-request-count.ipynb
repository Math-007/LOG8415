{
 "cells": [
  {
   "cell_type": "code",
   "execution_count": null,
   "metadata": {},
   "outputs": [],
   "source": [
    "import boto3\n",
    "import numpy\n",
    "import matplotlib.pyplot as plt\n",
    "from datetime import datetime, timedelta"
   ]
  },
  {
   "cell_type": "code",
   "execution_count": null,
   "metadata": {},
   "outputs": [],
   "source": [
    "elb = boto3.client('elbv2')"
   ]
  },
  {
   "cell_type": "code",
   "execution_count": null,
   "metadata": {},
   "outputs": [],
   "source": [
    "load_balencers = elb.describe_load_balancers()"
   ]
  },
  {
   "cell_type": "code",
   "execution_count": null,
   "metadata": {},
   "outputs": [],
   "source": [
    "[\n",
    "    load_balencer for load_balencer in load_balencers['LoadBalancers'] \n",
    "    if load_balencer['LoadBalancerName'] == 'LOG8415E-TP1-ELB'\n",
    "]"
   ]
  },
  {
   "cell_type": "code",
   "execution_count": null,
   "metadata": {},
   "outputs": [],
   "source": [
    "cloudwatch = boto3.client(service_name='cloudwatch', region_name='us-east-1')"
   ]
  },
  {
   "cell_type": "code",
   "execution_count": null,
   "metadata": {},
   "outputs": [],
   "source": [
    "start_time = datetime.strptime('2021-10-10T22:30:00Z', '%Y-%m-%dT%H:%M:%SZ')"
   ]
  },
  {
   "cell_type": "code",
   "execution_count": null,
   "metadata": {},
   "outputs": [],
   "source": [
    "response = cloudwatch.get_metric_statistics(\n",
    "    Namespace='AWS/ApplicationELB',\n",
    "    Period=1,\n",
    "    StartTime=start_time,\n",
    "    EndTime =start_time + timedelta(minutes=7),\n",
    "    MetricName='TargetResponseTime',\n",
    "    Statistics=['Average'],\n",
    "    Dimensions = [\n",
    "        {\n",
    "            'Name': 'LoadBalancer', \n",
    "            'Value': 'app/LOG8415E-TP1-ELB/34b9577b1309f9c3'\n",
    "        },\n",
    "        {\n",
    "            \"Name\": \"TargetGroup\",\n",
    "            \"Value\": \"targetgroup/awseb-cluster1-default-2wscr/1905e74e7bea1463\"\n",
    "        }\n",
    "    ]\n",
    ")"
   ]
  },
  {
   "cell_type": "code",
   "execution_count": null,
   "metadata": {},
   "outputs": [],
   "source": [
    "response['Datapoints'].sort(key=lambda d: d['Timestamp'])"
   ]
  },
  {
   "cell_type": "code",
   "execution_count": null,
   "metadata": {},
   "outputs": [],
   "source": [
    "response['Datapoints']"
   ]
  },
  {
   "cell_type": "code",
   "execution_count": null,
   "metadata": {},
   "outputs": [],
   "source": [
    "x = [ d['Timestamp'] for d in response['Datapoints']]\n",
    "y = [ d['Average'] for d in response['Datapoints']]"
   ]
  },
  {
   "cell_type": "code",
   "execution_count": null,
   "metadata": {},
   "outputs": [],
   "source": [
    "plt.xlabel(\"Test\")\n",
    "plt.ylabel('Time')\n",
    "plt.grid()\n",
    "\n",
    "plt.subplots(1)\n",
    "plt.plot(x, y, '-o')"
   ]
  },
  {
   "cell_type": "code",
   "execution_count": null,
   "metadata": {},
   "outputs": [],
   "source": [
    "\n",
    "fig1, ax1 = plt.subplots()\n",
    "ax1.title.set_text(\"test\")\n",
    "ax1.grid()\n",
    "ax1.plot(x, y, '-o')"
   ]
  }
 ],
 "metadata": {
  "kernelspec": {
   "display_name": "Python 3",
   "language": "python",
   "name": "python3"
  },
  "language_info": {
   "codemirror_mode": {
    "name": "ipython",
    "version": 3
   },
   "file_extension": ".py",
   "mimetype": "text/x-python",
   "name": "python",
   "nbconvert_exporter": "python",
   "pygments_lexer": "ipython3",
   "version": "3.8.9"
  }
 },
 "nbformat": 4,
 "nbformat_minor": 1
}
